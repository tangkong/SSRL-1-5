{
 "cells": [
  {
   "cell_type": "markdown",
   "metadata": {},
   "source": [
    "# Notebook for exporting data collected at SSRL 1-5"
   ]
  },
  {
   "cell_type": "code",
   "execution_count": 6,
   "metadata": {},
   "outputs": [],
   "source": [
    "# imports, setup\n",
    "from databroker import Broker\n",
    "db = Broker.named('mongoCat')\n",
    "import os\n",
    "import suitcase.csv\n",
    "import suitcase.tiff_series\n",
    "import suitcase.json_metadata\n",
    "\n",
    "from itertools import tee\n",
    "\n",
    "\n",
    "def std_exporter(docs, directory, fn, overwrite=False):\n",
    "    '''\n",
    "    Batch exporter for data.  \n",
    "\n",
    "    docs: documents from a Bluesky Run.  \n",
    "\n",
    "    directory: Parent directory where exported files will be written to.\n",
    "                Files will be further separated into subdirectories\n",
    "    '''\n",
    "\n",
    "    docs1, docs2, docs3 = tee(docs, 3)\n",
    "    suitcase.csv.export(docs1, directory, f'scan/{fn}-')\n",
    "    suitcase.tiff_series.export(docs2, directory, f'tiff/{fn}-')\n",
    "    suitcase.json_metadata.export(docs3, directory, f'meta/{fn}-')\n"
   ]
  },
  {
   "cell_type": "code",
   "execution_count": 7,
   "metadata": {},
   "outputs": [],
   "source": [
    "# User Settings\n",
    "\n",
    "filename = 'testName_'\n",
    "user_name = 'b_mehta'\n",
    "export_path = './testexport/' #'/bluedata/batch_export/'\n"
   ]
  },
  {
   "cell_type": "code",
   "execution_count": 5,
   "metadata": {},
   "outputs": [
    {
     "data": {
      "text/plain": [
       "('14a64eb6-a449-4870-9945-dc23b86a5e00',)"
      ]
     },
     "execution_count": 5,
     "metadata": {},
     "output_type": "execute_result"
    }
   ],
   "source": [
    "# dummy data\n",
    "db = Broker.named('temp')\n",
    "from bluesky import RunEngine\n",
    "RE = RunEngine()\n",
    "RE.subscribe(db.insert)\n",
    "from bluesky.plans import scan, count\n",
    "from ophyd.sim import det, motor\n",
    "\n",
    "\n",
    "RE(scan([det], motor, -1, 1, num=5))\n",
    "RE(count([det]))\n",
    "RE(count([det]), sample='dummy')\n",
    "RE(scan([det], motor, -1, 1, num=5), purpose='real data')\n"
   ]
  },
  {
   "cell_type": "code",
   "execution_count": 9,
   "metadata": {},
   "outputs": [],
   "source": [
    "# check connections\n",
    "## see if we can see data\n",
    "#db[-1].table(fill=True)\n"
   ]
  },
  {
   "cell_type": "code",
   "execution_count": 10,
   "metadata": {},
   "outputs": [],
   "source": [
    "# check header information, verify runs are desired\n",
    "hdr = db[-1]\n",
    "#hdr.start"
   ]
  },
  {
   "cell_type": "markdown",
   "metadata": {},
   "source": [
    "# Select data by scan id"
   ]
  },
  {
   "cell_type": "code",
   "execution_count": null,
   "metadata": {},
   "outputs": [],
   "source": [
    "# select via scan ID\n",
    "START = 1 #  scan id\n",
    "STOP = 3\n",
    "\n",
    "# Export Loop\n",
    "for scan_id in range(START, STOP + 1):\n",
    "    h = db[scan_id]\n",
    "    fn = f'{filename + str(scan_id)}'\n",
    "\n",
    "    try:\n",
    "        std_exporter(h.documents(), export_path, fn)\n",
    "        print('expoted scan #{scan_id}')\n",
    "    except Exception as e:\n",
    "        print(f'export failed')\n",
    "        print(e)"
   ]
  },
  {
   "cell_type": "markdown",
   "metadata": {},
   "source": [
    "# Select data by query"
   ]
  },
  {
   "cell_type": "code",
   "execution_count": null,
   "metadata": {},
   "outputs": [],
   "source": [
    "# preview start document\n",
    "db[-1].start"
   ]
  },
  {
   "cell_type": "code",
   "execution_count": 11,
   "metadata": {},
   "outputs": [],
   "source": [
    "# query data based on fields in the start document\n",
    "results = db(plan_name='scan')"
   ]
  },
  {
   "cell_type": "code",
   "execution_count": 17,
   "metadata": {
    "tags": []
   },
   "outputs": [
    {
     "name": "stdout",
     "output_type": "stream",
     "text": [
      "4\n",
      "1\n"
     ]
    }
   ],
   "source": [
    "# Export Loop\n",
    "for h in results:\n",
    "    \n",
    "    fn = f'{filename}'\n",
    "    try:\n",
    "        std_exporter(h.documents(), export_path, fn)\n",
    "        print('expoted scan #{scan_id}')\n",
    "    except Exception as e:\n",
    "        print(f'export failed')\n",
    "        print(e)\n",
    "\n"
   ]
  },
  {
   "cell_type": "code",
   "execution_count": null,
   "metadata": {},
   "outputs": [],
   "source": []
  }
 ],
 "metadata": {
  "kernelspec": {
   "display_name": "Python 3",
   "language": "python",
   "name": "python3"
  },
  "language_info": {
   "codemirror_mode": {
    "name": "ipython",
    "version": 3
   },
   "file_extension": ".py",
   "mimetype": "text/x-python",
   "name": "python",
   "nbconvert_exporter": "python",
   "pygments_lexer": "ipython3",
   "version": "3.8.5"
  }
 },
 "nbformat": 4,
 "nbformat_minor": 2
}
