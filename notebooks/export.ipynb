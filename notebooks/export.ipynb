{
 "metadata": {
  "language_info": {
   "codemirror_mode": {
    "name": "ipython",
    "version": 3
   },
   "file_extension": ".py",
   "mimetype": "text/x-python",
   "name": "python",
   "nbconvert_exporter": "python",
   "pygments_lexer": "ipython3",
   "version": "3.8.5-final"
  },
  "orig_nbformat": 2,
  "kernelspec": {
   "name": "Python 3.8.5 64-bit ('collect2': conda)",
   "display_name": "Python 3.8.5 64-bit ('collect2': conda)",
   "metadata": {
    "interpreter": {
     "hash": "6e518a406d1d6c71cc7cc8d56dc2f759b723bfc64fb93e9c416e1d65a8019dfa"
    }
   }
  }
 },
 "nbformat": 4,
 "nbformat_minor": 2,
 "cells": [
  {
   "source": [
    "# Notebook for exporting data collected at SSRL 1-5"
   ],
   "cell_type": "markdown",
   "metadata": {}
  },
  {
   "cell_type": "code",
   "execution_count": 1,
   "metadata": {},
   "outputs": [],
   "source": [
    "# imports, setup\n",
    "from databroker import Broker\n",
    "#db = Broker.named('mongoCat')\n",
    "import os\n",
    "import suitcase.csv\n",
    "import suitcase.tiff_series\n",
    "import suitcase.json_metadata\n",
    "\n",
    "from itertools import tee\n",
    "\n",
    "def std_exporter(docs, directory, fn, overwrite=False):\n",
    "    '''\n",
    "    Batch exporter for data.  \n",
    "\n",
    "    docs: documents from a Bluesky Run.  \n",
    "\n",
    "    directory: Parent directory where exported files will be written to.\n",
    "                Files will be further separated into subdirectories\n",
    "    '''\n",
    "\n",
    "    docs1, docs2, docs3 = tee(docs, 3)\n",
    "    suitcase.csv.export(docs1, directory, f'scan/{fn}-')\n",
    "    suitcase.tiff_series.export(docs2, directory, f'tiff/{fn}-')\n",
    "    suitcase.json_metadata.export(docs3, directory, f'meta/{fn}-')\n"
   ]
  },
  {
   "cell_type": "code",
   "execution_count": 14,
   "metadata": {},
   "outputs": [],
   "source": [
    "# User Settings\n",
    "\n",
    "filename = 'testName_'\n",
    "user_name = 'b_mehta'\n",
    "export_path = './testexport/' #'/bluedata/batch_export/'\n"
   ]
  },
  {
   "cell_type": "code",
   "execution_count": 4,
   "metadata": {},
   "outputs": [
    {
     "output_type": "execute_result",
     "data": {
      "text/plain": "(&#39;61dfd049-4a64-4263-aa2e-34d1e32ac6a0&#39;,)"
     },
     "metadata": {},
     "execution_count": 4
    }
   ],
   "source": [
    "# dummy data\n",
    "db = Broker.named('temp')\n",
    "from bluesky import RunEngine\n",
    "RE = RunEngine()\n",
    "RE.subscribe(db.insert)\n",
    "from bluesky.plans import scan, count\n",
    "from ophyd.sim import det, motor\n",
    "\n",
    "\n",
    "RE(scan([det], motor, -1, 1, num=5))\n",
    "RE(count([det]))\n",
    "RE(count([det]), sample='dummy')\n",
    "RE(scan([det], motor, -1, 1, num=5), purpose='real data')\n"
   ]
  },
  {
   "cell_type": "code",
   "execution_count": 5,
   "metadata": {},
   "outputs": [
    {
     "output_type": "execute_result",
     "data": {
      "text/plain": "                                 time  motor  motor_setpoint       det\nseq_num                                                               \n1       2020-10-06 02:37:25.124549150   -1.0            -1.0  0.606531\n2       2020-10-06 02:37:25.128399134   -0.5            -0.5  0.882497\n3       2020-10-06 02:37:25.131392002    0.0             0.0  1.000000\n4       2020-10-06 02:37:25.135406494    0.5             0.5  0.882497\n5       2020-10-06 02:37:25.139369011    1.0             1.0  0.606531",
      "text/html": "<div>\n<style scoped>\n    .dataframe tbody tr th:only-of-type {\n        vertical-align: middle;\n    }\n\n    .dataframe tbody tr th {\n        vertical-align: top;\n    }\n\n    .dataframe thead th {\n        text-align: right;\n    }\n</style>\n<table border=\"1\" class=\"dataframe\">\n  <thead>\n    <tr style=\"text-align: right;\">\n      <th></th>\n      <th>time</th>\n      <th>motor</th>\n      <th>motor_setpoint</th>\n      <th>det</th>\n    </tr>\n    <tr>\n      <th>seq_num</th>\n      <th></th>\n      <th></th>\n      <th></th>\n      <th></th>\n    </tr>\n  </thead>\n  <tbody>\n    <tr>\n      <th>1</th>\n      <td>2020-10-06 02:37:25.124549150</td>\n      <td>-1.0</td>\n      <td>-1.0</td>\n      <td>0.606531</td>\n    </tr>\n    <tr>\n      <th>2</th>\n      <td>2020-10-06 02:37:25.128399134</td>\n      <td>-0.5</td>\n      <td>-0.5</td>\n      <td>0.882497</td>\n    </tr>\n    <tr>\n      <th>3</th>\n      <td>2020-10-06 02:37:25.131392002</td>\n      <td>0.0</td>\n      <td>0.0</td>\n      <td>1.000000</td>\n    </tr>\n    <tr>\n      <th>4</th>\n      <td>2020-10-06 02:37:25.135406494</td>\n      <td>0.5</td>\n      <td>0.5</td>\n      <td>0.882497</td>\n    </tr>\n    <tr>\n      <th>5</th>\n      <td>2020-10-06 02:37:25.139369011</td>\n      <td>1.0</td>\n      <td>1.0</td>\n      <td>0.606531</td>\n    </tr>\n  </tbody>\n</table>\n</div>"
     },
     "metadata": {},
     "execution_count": 5
    }
   ],
   "source": [
    "# check connections\n",
    "## see if we can see data\n",
    "db[-1].table(fill=True)\n"
   ]
  },
  {
   "cell_type": "code",
   "execution_count": 10,
   "metadata": {},
   "outputs": [],
   "source": [
    "# check header information, verify runs are desired\n",
    "hdr = db[-1]\n",
    "#hdr.start"
   ]
  },
  {
   "source": [
    "# Select data by scan id"
   ],
   "cell_type": "markdown",
   "metadata": {}
  },
  {
   "cell_type": "code",
   "execution_count": null,
   "metadata": {},
   "outputs": [],
   "source": [
    "# select via scan ID\n",
    "START = 1 #  scan id\n",
    "STOP = 3\n",
    "\n",
    "# Export Loop\n",
    "for scan_id in range(START, STOP + 1):\n",
    "    h = db[scan_id]\n",
    "    fn = f'{filename + str(scan_id)}'\n",
    "\n",
    "    try:\n",
    "        std_exporter(h.documents(), export_path, fn)\n",
    "        print('expoted scan #{scan_id}')\n",
    "    except Exception as e:\n",
    "        print(f'export failed')\n",
    "        print(e)"
   ]
  },
  {
   "source": [
    "# Select data by query"
   ],
   "cell_type": "markdown",
   "metadata": {}
  },
  {
   "cell_type": "code",
   "execution_count": null,
   "metadata": {},
   "outputs": [],
   "source": [
    "# preview start document\n",
    "db[-1].start"
   ]
  },
  {
   "cell_type": "code",
   "execution_count": 11,
   "metadata": {},
   "outputs": [],
   "source": [
    "# query data based on fields in the start document\n",
    "results = db(plan_name='scan')"
   ]
  },
  {
   "cell_type": "code",
   "execution_count": 17,
   "metadata": {
    "tags": []
   },
   "outputs": [
    {
     "output_type": "stream",
     "name": "stdout",
     "text": "4\n1\n"
    }
   ],
   "source": [
    "# Export Loop\n",
    "for h in results:\n",
    "    \n",
    "    fn = f'{filename}'\n",
    "    try:\n",
    "        std_exporter(h.documents(), export_path, fn)\n",
    "        print('expoted scan #{scan_id}')\n",
    "    except Exception as e:\n",
    "        print(f'export failed')\n",
    "        print(e)\n",
    "\n"
   ]
  },
  {
   "cell_type": "code",
   "execution_count": null,
   "metadata": {},
   "outputs": [],
   "source": []
  }
 ]
}