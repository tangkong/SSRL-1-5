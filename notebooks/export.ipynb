{
 "metadata": {
  "language_info": {
   "codemirror_mode": {
    "name": "ipython",
    "version": 3
   },
   "file_extension": ".py",
   "mimetype": "text/x-python",
   "name": "python",
   "nbconvert_exporter": "python",
   "pygments_lexer": "ipython3",
   "version": "3.8.5-final"
  },
  "orig_nbformat": 2,
  "kernelspec": {
   "name": "Python 3.8.5 64-bit ('collect2': conda)",
   "display_name": "Python 3.8.5 64-bit ('collect2': conda)",
   "metadata": {
    "interpreter": {
     "hash": "6e518a406d1d6c71cc7cc8d56dc2f759b723bfc64fb93e9c416e1d65a8019dfa"
    }
   }
  }
 },
 "nbformat": 4,
 "nbformat_minor": 2,
 "cells": [
  {
   "source": [
    "# Notebook for exporting data collected at SSRL 1-5"
   ],
   "cell_type": "markdown",
   "metadata": {}
  },
  {
   "cell_type": "code",
   "execution_count": 20,
   "metadata": {},
   "outputs": [],
   "source": [
    "# imports, setup\n",
    "from databroker import Broker\n",
    "#db = Broker.named('mongoCat')\n",
    "import os\n",
    "import suitcase.csv\n",
    "import suitcase.tiff_series\n",
    "import suitcase.json_metadata\n",
    "\n",
    "from itertools import tee\n",
    "\n",
    "def std_exporter(docs, directory, fn, overwrite=False):\n",
    "    '''\n",
    "    Batch exporter for data.  \n",
    "\n",
    "    docs: documents from a Bluesky Run.  \n",
    "\n",
    "    directory: Parent directory where exported files will be written to.\n",
    "                Files will be further separated into subdirectories\n",
    "    '''\n",
    "\n",
    "    docs1, docs2, docs3 = tee(docs, 3)\n",
    "    suitcase.csv.export(docs1, directory, f'scan/{fn}-')\n",
    "    suitcase.tiff_series.export(docs2, directory, f'tiff/{fn}-')\n",
    "    suitcase.json_metadata.export(docs3, directory, f'meta/{fn}-')\n"
   ]
  },
  {
   "cell_type": "code",
   "execution_count": 21,
   "metadata": {},
   "outputs": [
    {
     "output_type": "execute_result",
     "data": {
      "text/plain": "(&#39;de24dffc-6d19-4452-be3d-e86932eacfc6&#39;,)"
     },
     "metadata": {},
     "execution_count": 21
    }
   ],
   "source": [
    "# dummy data\n",
    "db = Broker.named('temp')\n",
    "from bluesky import RunEngine\n",
    "RE = RunEngine()\n",
    "RE.subscribe(db.insert)\n",
    "from bluesky.plans import scan\n",
    "from ophyd.sim import det, motor\n",
    "\n",
    "\n",
    "RE(scan([det], motor, -1, 1, num=5))\n"
   ]
  },
  {
   "cell_type": "code",
   "execution_count": 22,
   "metadata": {},
   "outputs": [
    {
     "output_type": "execute_result",
     "data": {
      "text/plain": "                                 time       det  motor  motor_setpoint\nseq_num                                                               \n1       2020-10-01 17:57:14.204423666  0.606531   -1.0            -1.0\n2       2020-10-01 17:57:14.208385706  0.882497   -0.5            -0.5\n3       2020-10-01 17:57:14.212374210  1.000000    0.0             0.0\n4       2020-10-01 17:57:14.216364145  0.882497    0.5             0.5\n5       2020-10-01 17:57:14.219407558  0.606531    1.0             1.0",
      "text/html": "<div>\n<style scoped>\n    .dataframe tbody tr th:only-of-type {\n        vertical-align: middle;\n    }\n\n    .dataframe tbody tr th {\n        vertical-align: top;\n    }\n\n    .dataframe thead th {\n        text-align: right;\n    }\n</style>\n<table border=\"1\" class=\"dataframe\">\n  <thead>\n    <tr style=\"text-align: right;\">\n      <th></th>\n      <th>time</th>\n      <th>det</th>\n      <th>motor</th>\n      <th>motor_setpoint</th>\n    </tr>\n    <tr>\n      <th>seq_num</th>\n      <th></th>\n      <th></th>\n      <th></th>\n      <th></th>\n    </tr>\n  </thead>\n  <tbody>\n    <tr>\n      <th>1</th>\n      <td>2020-10-01 17:57:14.204423666</td>\n      <td>0.606531</td>\n      <td>-1.0</td>\n      <td>-1.0</td>\n    </tr>\n    <tr>\n      <th>2</th>\n      <td>2020-10-01 17:57:14.208385706</td>\n      <td>0.882497</td>\n      <td>-0.5</td>\n      <td>-0.5</td>\n    </tr>\n    <tr>\n      <th>3</th>\n      <td>2020-10-01 17:57:14.212374210</td>\n      <td>1.000000</td>\n      <td>0.0</td>\n      <td>0.0</td>\n    </tr>\n    <tr>\n      <th>4</th>\n      <td>2020-10-01 17:57:14.216364145</td>\n      <td>0.882497</td>\n      <td>0.5</td>\n      <td>0.5</td>\n    </tr>\n    <tr>\n      <th>5</th>\n      <td>2020-10-01 17:57:14.219407558</td>\n      <td>0.606531</td>\n      <td>1.0</td>\n      <td>1.0</td>\n    </tr>\n  </tbody>\n</table>\n</div>"
     },
     "metadata": {},
     "execution_count": 22
    }
   ],
   "source": [
    "# check connections\n",
    "## see if we can see data\n",
    "db[-1].table(fill=True)\n"
   ]
  },
  {
   "cell_type": "code",
   "execution_count": 26,
   "metadata": {},
   "outputs": [],
   "source": [
    "# User Settings\n",
    "\n",
    "filename = 'testName_'\n",
    "user_name = 'b_mehta'\n",
    "export_path = './testexport/'\n",
    "\n",
    "START = 1 #  scan id\n",
    "STOP = 1"
   ]
  },
  {
   "cell_type": "code",
   "execution_count": 27,
   "metadata": {},
   "outputs": [
    {
     "output_type": "execute_result",
     "data": {
      "text/plain": "{&#39;uid&#39;: &#39;de24dffc-6d19-4452-be3d-e86932eacfc6&#39;,\n &#39;time&#39;: 1601575034.1864767,\n &#39;versions&#39;: {&#39;ophyd&#39;: &#39;1.5.0&#39;, &#39;bluesky&#39;: &#39;1.6.2&#39;},\n &#39;scan_id&#39;: 1,\n &#39;plan_type&#39;: &#39;generator&#39;,\n &#39;plan_name&#39;: &#39;scan&#39;,\n &#39;detectors&#39;: [&#39;det&#39;],\n &#39;motors&#39;: [&#39;motor&#39;],\n &#39;num_points&#39;: 5,\n &#39;num_intervals&#39;: 4,\n &#39;plan_args&#39;: {&#39;detectors&#39;: [&quot;SynGauss(prefix=&#39;&#39;, name=&#39;det&#39;, read_attrs=[&#39;val&#39;], configuration_attrs=[&#39;Imax&#39;, &#39;center&#39;, &#39;sigma&#39;, &#39;noise&#39;, &#39;noise_multiplier&#39;])&quot;],\n  &#39;num&#39;: 5,\n  &#39;args&#39;: [&quot;SynAxis(prefix=&#39;&#39;, name=&#39;motor&#39;, read_attrs=[&#39;readback&#39;, &#39;setpoint&#39;], configuration_attrs=[&#39;velocity&#39;, &#39;acceleration&#39;])&quot;,\n   -1,\n   1],\n  &#39;per_step&#39;: &#39;None&#39;},\n &#39;hints&#39;: {&#39;dimensions&#39;: [[[&#39;motor&#39;], &#39;primary&#39;]]},\n &#39;plan_pattern&#39;: &#39;inner_product&#39;,\n &#39;plan_pattern_module&#39;: &#39;bluesky.plan_patterns&#39;,\n &#39;plan_pattern_args&#39;: {&#39;num&#39;: 5,\n  &#39;args&#39;: [&quot;SynAxis(prefix=&#39;&#39;, name=&#39;motor&#39;, read_attrs=[&#39;readback&#39;, &#39;setpoint&#39;], configuration_attrs=[&#39;velocity&#39;, &#39;acceleration&#39;])&quot;,\n   -1,\n   1]}}",
      "text/html": "\n<table>\n\n  <tr>\n    <th> detectors </th>\n    <td>\n      \n          \n            ['det']\n          \n        \n    </td>\n  </tr>\n\n  <tr>\n    <th> hints </th>\n    <td>\n      \n        <table>\n          \n  <tr>\n    <th> dimensions </th>\n    <td>\n      \n          \n            [[['motor'], 'primary']]\n          \n        \n    </td>\n  </tr>\n\n        </table>\n        \n    </td>\n  </tr>\n\n  <tr>\n    <th> motors </th>\n    <td>\n      \n          \n            ['motor']\n          \n        \n    </td>\n  </tr>\n\n  <tr>\n    <th> num_intervals </th>\n    <td>\n      \n          \n            4\n          \n        \n    </td>\n  </tr>\n\n  <tr>\n    <th> num_points </th>\n    <td>\n      \n          \n            5\n          \n        \n    </td>\n  </tr>\n\n  <tr>\n    <th> plan_args </th>\n    <td>\n      \n        <table>\n          \n  <tr>\n    <th> args </th>\n    <td>\n      \n          \n            [\"SynAxis(prefix='', name='motor', read_attrs=['readback', 'setpoint'], configuration_attrs=['velocity', 'acceleration'])\", -1, 1]\n          \n        \n    </td>\n  </tr>\n\n  <tr>\n    <th> detectors </th>\n    <td>\n      \n          \n            [\"SynGauss(prefix='', name='det', read_attrs=['val'], configuration_attrs=['Imax', 'center', 'sigma', 'noise', 'noise_multiplier'])\"]\n          \n        \n    </td>\n  </tr>\n\n  <tr>\n    <th> num </th>\n    <td>\n      \n          \n            5\n          \n        \n    </td>\n  </tr>\n\n  <tr>\n    <th> per_step </th>\n    <td>\n      \n          \n            None\n          \n        \n    </td>\n  </tr>\n\n        </table>\n        \n    </td>\n  </tr>\n\n  <tr>\n    <th> plan_name </th>\n    <td>\n      \n          \n            scan\n          \n        \n    </td>\n  </tr>\n\n  <tr>\n    <th> plan_pattern </th>\n    <td>\n      \n          \n            inner_product\n          \n        \n    </td>\n  </tr>\n\n  <tr>\n    <th> plan_pattern_args </th>\n    <td>\n      \n        <table>\n          \n  <tr>\n    <th> args </th>\n    <td>\n      \n          \n            [\"SynAxis(prefix='', name='motor', read_attrs=['readback', 'setpoint'], configuration_attrs=['velocity', 'acceleration'])\", -1, 1]\n          \n        \n    </td>\n  </tr>\n\n  <tr>\n    <th> num </th>\n    <td>\n      \n          \n            5\n          \n        \n    </td>\n  </tr>\n\n        </table>\n        \n    </td>\n  </tr>\n\n  <tr>\n    <th> plan_pattern_module </th>\n    <td>\n      \n          \n            bluesky.plan_patterns\n          \n        \n    </td>\n  </tr>\n\n  <tr>\n    <th> plan_type </th>\n    <td>\n      \n          \n            generator\n          \n        \n    </td>\n  </tr>\n\n  <tr>\n    <th> scan_id </th>\n    <td>\n      \n          \n            1\n          \n        \n    </td>\n  </tr>\n\n  <tr>\n    <th> time </th>\n    <td>\n      \n          \n            46 seconds ago (2020-10-01T10:57:14.186477)\n          \n        \n    </td>\n  </tr>\n\n  <tr>\n    <th> uid </th>\n    <td>\n      \n          \n            de24dffc-6d19-4452-be3d-e86932eacfc6\n          \n        \n    </td>\n  </tr>\n\n  <tr>\n    <th> versions </th>\n    <td>\n      \n        <table>\n          \n  <tr>\n    <th> bluesky </th>\n    <td>\n      \n          \n            1.6.2\n          \n        \n    </td>\n  </tr>\n\n  <tr>\n    <th> ophyd </th>\n    <td>\n      \n          \n            1.5.0\n          \n        \n    </td>\n  </tr>\n\n        </table>\n        \n    </td>\n  </tr>\n\n</table>"
     },
     "metadata": {},
     "execution_count": 27
    }
   ],
   "source": [
    "hdr = db[START]\n",
    "hdr.start"
   ]
  },
  {
   "cell_type": "code",
   "execution_count": 28,
   "metadata": {
    "tags": []
   },
   "outputs": [],
   "source": [
    "# Export Loop\n",
    "for scan_id in range(START, STOP + 1):\n",
    "    h = db[scan_id]\n",
    "    fn = f'{filename + str(scan_id)}'\n",
    "\n",
    "    try:\n",
    "        std_exporter(h.documents(), export_path, fn)\n",
    "        print('expoted scan #{scan_id}')\n",
    "    except Exception as e:\n",
    "        print(f'export failed')\n",
    "        print(e)\n",
    "\n"
   ]
  }
 ]
}